{
  "nbformat": 4,
  "nbformat_minor": 0,
  "metadata": {
    "colab": {
      "provenance": [],
      "gpuType": "T4"
    },
    "kernelspec": {
      "name": "python3",
      "display_name": "Python 3"
    },
    "language_info": {
      "name": "python"
    },
    "accelerator": "GPU"
  },
  "cells": [
    {
      "cell_type": "code",
      "execution_count": null,
      "metadata": {
        "colab": {
          "base_uri": "https://localhost:8080/"
        },
        "id": "n-d7P9m16vSF",
        "outputId": "1dd9d089-2b58-4915-9d3d-45b101e65e6d"
      },
      "outputs": [
        {
          "output_type": "stream",
          "name": "stdout",
          "text": [
            "Drive already mounted at /content/drive; to attempt to forcibly remount, call drive.mount(\"/content/drive\", force_remount=True).\n"
          ]
        }
      ],
      "source": [
        "from google.colab import drive\n",
        "drive.mount('/content/drive')"
      ]
    },
    {
      "cell_type": "code",
      "source": [
        "!unzip '/content/drive/My Drive/ADVANCED/code/ViTs feature visualization.zip' -d '/content'"
      ],
      "metadata": {
        "colab": {
          "base_uri": "https://localhost:8080/"
        },
        "id": "g4tMSq-6kY-U",
        "outputId": "6768cd84-b1a3-4d6b-f64e-d1066fb2615c"
      },
      "execution_count": null,
      "outputs": [
        {
          "output_type": "stream",
          "name": "stdout",
          "text": [
            "Archive:  /content/drive/My Drive/ADVANCED/code/ViTs feature visualization.zip\n",
            "replace /content/ViTs feature visualization/.gitignore? [y]es, [n]o, [A]ll, [N]one, [r]ename: "
          ]
        }
      ]
    },
    {
      "cell_type": "code",
      "source": [
        "!pip install pytorch_pretrained_vit\n",
        "!pip install timm\n",
        "!pip install clip"
      ],
      "metadata": {
        "colab": {
          "base_uri": "https://localhost:8080/"
        },
        "id": "pBPbSbWhBMG-",
        "outputId": "e1d3a044-43b9-423c-83fa-966da135935f"
      },
      "execution_count": null,
      "outputs": [
        {
          "output_type": "stream",
          "name": "stdout",
          "text": [
            "Requirement already satisfied: pytorch_pretrained_vit in /usr/local/lib/python3.10/dist-packages (0.0.7)\n",
            "Requirement already satisfied: torch in /usr/local/lib/python3.10/dist-packages (from pytorch_pretrained_vit) (2.1.0+cu118)\n",
            "Requirement already satisfied: filelock in /usr/local/lib/python3.10/dist-packages (from torch->pytorch_pretrained_vit) (3.12.4)\n",
            "Requirement already satisfied: typing-extensions in /usr/local/lib/python3.10/dist-packages (from torch->pytorch_pretrained_vit) (4.5.0)\n",
            "Requirement already satisfied: sympy in /usr/local/lib/python3.10/dist-packages (from torch->pytorch_pretrained_vit) (1.12)\n",
            "Requirement already satisfied: networkx in /usr/local/lib/python3.10/dist-packages (from torch->pytorch_pretrained_vit) (3.2)\n",
            "Requirement already satisfied: jinja2 in /usr/local/lib/python3.10/dist-packages (from torch->pytorch_pretrained_vit) (3.1.2)\n",
            "Requirement already satisfied: fsspec in /usr/local/lib/python3.10/dist-packages (from torch->pytorch_pretrained_vit) (2023.6.0)\n",
            "Requirement already satisfied: triton==2.1.0 in /usr/local/lib/python3.10/dist-packages (from torch->pytorch_pretrained_vit) (2.1.0)\n",
            "Requirement already satisfied: MarkupSafe>=2.0 in /usr/local/lib/python3.10/dist-packages (from jinja2->torch->pytorch_pretrained_vit) (2.1.3)\n",
            "Requirement already satisfied: mpmath>=0.19 in /usr/local/lib/python3.10/dist-packages (from sympy->torch->pytorch_pretrained_vit) (1.3.0)\n",
            "Requirement already satisfied: timm in /usr/local/lib/python3.10/dist-packages (0.9.10)\n",
            "Requirement already satisfied: torch>=1.7 in /usr/local/lib/python3.10/dist-packages (from timm) (2.1.0+cu118)\n",
            "Requirement already satisfied: torchvision in /usr/local/lib/python3.10/dist-packages (from timm) (0.16.0+cu118)\n",
            "Requirement already satisfied: pyyaml in /usr/local/lib/python3.10/dist-packages (from timm) (6.0.1)\n",
            "Requirement already satisfied: huggingface-hub in /usr/local/lib/python3.10/dist-packages (from timm) (0.18.0)\n",
            "Requirement already satisfied: safetensors in /usr/local/lib/python3.10/dist-packages (from timm) (0.4.0)\n",
            "Requirement already satisfied: filelock in /usr/local/lib/python3.10/dist-packages (from torch>=1.7->timm) (3.12.4)\n",
            "Requirement already satisfied: typing-extensions in /usr/local/lib/python3.10/dist-packages (from torch>=1.7->timm) (4.5.0)\n",
            "Requirement already satisfied: sympy in /usr/local/lib/python3.10/dist-packages (from torch>=1.7->timm) (1.12)\n",
            "Requirement already satisfied: networkx in /usr/local/lib/python3.10/dist-packages (from torch>=1.7->timm) (3.2)\n",
            "Requirement already satisfied: jinja2 in /usr/local/lib/python3.10/dist-packages (from torch>=1.7->timm) (3.1.2)\n",
            "Requirement already satisfied: fsspec in /usr/local/lib/python3.10/dist-packages (from torch>=1.7->timm) (2023.6.0)\n",
            "Requirement already satisfied: triton==2.1.0 in /usr/local/lib/python3.10/dist-packages (from torch>=1.7->timm) (2.1.0)\n",
            "Requirement already satisfied: requests in /usr/local/lib/python3.10/dist-packages (from huggingface-hub->timm) (2.31.0)\n",
            "Requirement already satisfied: tqdm>=4.42.1 in /usr/local/lib/python3.10/dist-packages (from huggingface-hub->timm) (4.66.1)\n",
            "Requirement already satisfied: packaging>=20.9 in /usr/local/lib/python3.10/dist-packages (from huggingface-hub->timm) (23.2)\n",
            "Requirement already satisfied: numpy in /usr/local/lib/python3.10/dist-packages (from torchvision->timm) (1.23.5)\n",
            "Requirement already satisfied: pillow!=8.3.*,>=5.3.0 in /usr/local/lib/python3.10/dist-packages (from torchvision->timm) (9.4.0)\n",
            "Requirement already satisfied: MarkupSafe>=2.0 in /usr/local/lib/python3.10/dist-packages (from jinja2->torch>=1.7->timm) (2.1.3)\n",
            "Requirement already satisfied: charset-normalizer<4,>=2 in /usr/local/lib/python3.10/dist-packages (from requests->huggingface-hub->timm) (3.3.1)\n",
            "Requirement already satisfied: idna<4,>=2.5 in /usr/local/lib/python3.10/dist-packages (from requests->huggingface-hub->timm) (3.4)\n",
            "Requirement already satisfied: urllib3<3,>=1.21.1 in /usr/local/lib/python3.10/dist-packages (from requests->huggingface-hub->timm) (2.0.7)\n",
            "Requirement already satisfied: certifi>=2017.4.17 in /usr/local/lib/python3.10/dist-packages (from requests->huggingface-hub->timm) (2023.7.22)\n",
            "Requirement already satisfied: mpmath>=0.19 in /usr/local/lib/python3.10/dist-packages (from sympy->torch>=1.7->timm) (1.3.0)\n",
            "Requirement already satisfied: clip in /usr/local/lib/python3.10/dist-packages (0.2.0)\n"
          ]
        }
      ]
    },
    {
      "cell_type": "code",
      "source": [
        "# l=layer, f=feature, v=total variation reguarization penalizer\n",
        "\n",
        "!python \"./ViTs feature visualization/main.py\" -l 1 -f 1 -v 0.1\n",
        "\n",
        "# the result visualization is saved in the same directory as current one, folder named desktop."
      ],
      "metadata": {
        "colab": {
          "base_uri": "https://localhost:8080/"
        },
        "id": "AeCKWzTmA5j-",
        "outputId": "4384d463-5822-4ec5-ff3e-7792536a848b"
      },
      "execution_count": null,
      "outputs": [
        {
          "output_type": "stream",
          "name": "stdout",
          "text": [
            "Trying to load config file configs/./ViTs feature visualization/main.toml but it doesnt exist\n",
            "{'toml': 'configs/./ViTs feature visualization/main.toml', 'experiment': None, 'layer': 1, 'feature': 1, 'target': 0, 'seed': 6247423, 'grid': 0, 'lr': 0.1, 'network': 34, 'patch': 16, 'sign': 1, 'method': 'in_feat', 'dir': None, 'tv': 0.1, 'exp_no': '1642699563'}\n",
            "Loaded pretrained weights.\n",
            "#i\tLoss\tVTE\tTV\n",
            "0\t0.06\t0.01(0.01)\t0.04(872)\n",
            "10\t0.03\t0.01(0.01)\t0.02(397)\n",
            "20\t0.02\t0.01(0.01)\t0.01(285)\n",
            "30\t-0.02\t-0.04(-0.04)\t0.02(324)\n",
            "40\t-0.03\t-0.05(-0.05)\t0.02(353)\n",
            "50\t-0.03\t-0.05(-0.05)\t0.02(329)\n",
            "60\t0.01\t-0.0(-0.0)\t0.01(270)\n",
            "70\t-0.04\t-0.05(-0.05)\t0.02(321)\n",
            "80\t0.01\t-0.0(-0.0)\t0.02(327)\n",
            "90\t0.02\t0.0(0.0)\t0.02(382)\n",
            "100\t0.01\t-0.01(-0.01)\t0.01(287)\n",
            "110\t0.02\t0.01(0.01)\t0.02(363)\n",
            "120\t-0.06\t-0.08(-0.08)\t0.02(434)\n",
            "130\t0.0\t-0.01(-0.01)\t0.02(337)\n",
            "140\t0.01\t-0.01(-0.01)\t0.02(437)\n",
            "150\t0.01\t-0.01(-0.01)\t0.02(401)\n",
            "160\t-0.14\t-0.16(-0.16)\t0.02(344)\n",
            "170\t0.01\t-0.01(-0.01)\t0.02(363)\n",
            "180\t-0.02\t-0.03(-0.03)\t0.02(302)\n",
            "190\t-0.04\t-0.06(-0.06)\t0.02(370)\n",
            "200\t-0.07\t-0.09(-0.09)\t0.01(281)\n",
            "210\t-0.01\t-0.03(-0.03)\t0.02(301)\n",
            "220\t-0.02\t-0.04(-0.04)\t0.02(353)\n",
            "230\t0.02\t0.0(0.0)\t0.01(290)\n",
            "240\t-0.01\t-0.03(-0.03)\t0.01(284)\n",
            "250\t0.0\t-0.01(-0.01)\t0.01(262)\n",
            "260\t-0.04\t-0.05(-0.05)\t0.02(317)\n",
            "270\t-0.03\t-0.04(-0.04)\t0.01(275)\n",
            "280\t-0.01\t-0.02(-0.02)\t0.01(241)\n",
            "290\t-0.06\t-0.08(-0.08)\t0.01(250)\n",
            "300\t-0.04\t-0.05(-0.05)\t0.01(264)\n",
            "310\t-0.04\t-0.06(-0.06)\t0.01(277)\n",
            "320\t-0.03\t-0.04(-0.04)\t0.01(263)\n",
            "330\t-0.04\t-0.06(-0.06)\t0.02(307)\n",
            "340\t-0.07\t-0.08(-0.08)\t0.01(279)\n",
            "350\t-0.05\t-0.06(-0.06)\t0.01(202)\n",
            "360\t-0.02\t-0.03(-0.03)\t0.01(234)\n",
            "370\t-0.07\t-0.08(-0.08)\t0.01(254)\n",
            "380\t-0.08\t-0.09(-0.09)\t0.01(249)\n",
            "390\t-0.04\t-0.05(-0.05)\t0.01(265)\n",
            "400\t-0.05\t-0.06(-0.06)\t0.01(277)\n",
            "tensor([[[[0.8233, 0.5604, 0.4236,  ..., 0.9441, 0.9042, 0.9169],\n",
            "          [0.8456, 0.6018, 0.3529,  ..., 0.9997, 0.9999, 0.9848],\n",
            "          [0.9391, 0.6860, 0.4403,  ..., 0.9987, 0.9999, 0.9999],\n",
            "          ...,\n",
            "          [0.8113, 0.7704, 0.7810,  ..., 0.9719, 0.8873, 0.8189],\n",
            "          [0.6928, 0.6087, 0.5890,  ..., 0.9308, 0.8472, 0.7877],\n",
            "          [0.7795, 0.6481, 0.5364,  ..., 0.9812, 0.7954, 0.7808]],\n",
            "\n",
            "         [[0.3814, 0.1650, 0.1534,  ..., 0.4747, 0.4330, 0.4855],\n",
            "          [0.4889, 0.3130, 0.2588,  ..., 0.6965, 0.6685, 0.5702],\n",
            "          [0.6923, 0.5287, 0.5231,  ..., 0.6073, 0.6748, 0.6865],\n",
            "          ...,\n",
            "          [0.3469, 0.1934, 0.1588,  ..., 0.4662, 0.4793, 0.4837],\n",
            "          [0.2586, 0.1300, 0.1697,  ..., 0.4690, 0.3987, 0.4393],\n",
            "          [0.2909, 0.1890, 0.2214,  ..., 0.4531, 0.3395, 0.2953]],\n",
            "\n",
            "         [[0.6329, 0.7254, 0.7585,  ..., 0.2752, 0.3426, 0.4775],\n",
            "          [0.5101, 0.6367, 0.5996,  ..., 0.3525, 0.3532, 0.3450],\n",
            "          [0.5925, 0.6385, 0.6285,  ..., 0.2686, 0.3220, 0.4290],\n",
            "          ...,\n",
            "          [0.6930, 0.9110, 0.9040,  ..., 0.2466, 0.2235, 0.4457],\n",
            "          [0.7338, 0.9027, 0.9119,  ..., 0.2060, 0.2990, 0.5191],\n",
            "          [0.7702, 0.9352, 0.9318,  ..., 0.3366, 0.3116, 0.5123]]]],\n",
            "       device='cuda:0', requires_grad=True)\n"
          ]
        }
      ]
    }
  ]
}