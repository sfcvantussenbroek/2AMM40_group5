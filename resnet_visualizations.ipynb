{
 "cells": [
  {
   "cell_type": "code",
   "execution_count": null,
   "id": "45a80238-31e6-42b7-bb82-ce6ce38bbd35",
   "metadata": {},
   "outputs": [],
   "source": [
    "import numpy as np\n",
    "import tensorflow as tf\n",
    "from matplotlib import pyplot as plt\n",
    "%matplotlib inline\n",
    "#%%\n",
    "import lucid.modelzoo.vision_models as models\n",
    "from lucid.misc.io import show, save\n",
    "from lucid.misc.io.serialize_array import serialize_array\n",
    "import lucid.optvis.objectives as objectives\n",
    "import lucid.optvis.param as param\n",
    "import lucid.optvis.render as render\n",
    "import lucid.optvis.transform as transform\n",
    "\n",
    "import warnings\n",
    "warnings.filterwarnings('ignore')"
   ]
  },
  {
   "cell_type": "code",
   "execution_count": null,
   "id": "a8e255e8-06a5-4238-a084-894fa24d6fa7",
   "metadata": {},
   "outputs": [],
   "source": [
    "model = models.ResnetV1_50_slim()\n",
    "model.load_graphdef()"
   ]
  },
  {
   "cell_type": "code",
   "execution_count": null,
   "id": "99e38fc5-82a3-43f4-9120-d04efdef4e93",
   "metadata": {},
   "outputs": [],
   "source": [
    "#obj = objectives.channel(\"resnet_v1_50/block2/unit_1/bottleneck_v1/Relu\", 511)\n",
    "#_ = render.render_vis(model, obj)"
   ]
  },
  {
   "cell_type": "code",
   "execution_count": null,
   "id": "c662f583-3224-4bf0-a303-54fb75e1ec17",
   "metadata": {},
   "outputs": [],
   "source": [
    "import copy\n",
    "layer_numbers= copy.copy(model.layers)\n",
    "for layer in layer_numbers:\n",
    "    layer[\"numbers\"]=[i for i in range(0, layer[\"size\"])]"
   ]
  },
  {
   "cell_type": "code",
   "execution_count": null,
   "id": "da163543-8a84-4815-b6f2-13d0e216fa0d",
   "metadata": {},
   "outputs": [],
   "source": [
    "import random\n",
    "visualizations = {}\n",
    "for layer in layer_numbers:\n",
    "    unit_size = copy.copy(len(layer[\"numbers\"]))\n",
    "    for i in range(0,3):\n",
    "        unit = random.choice(layer[\"numbers\"])\n",
    "        obj = objectives.channel(layer[\"name\"], unit)\n",
    "        _ = render.render_vis(model, obj)\n",
    "        visualizations[layer[\"name\"] + f\" unit {str(unit)}\"] = _\n",
    "        layer[\"numbers\"].remove(unit)"
   ]
  },
  {
   "cell_type": "code",
   "execution_count": null,
   "id": "8cf7707a-5805-4c3c-9e85-ab8619b510a5",
   "metadata": {},
   "outputs": [],
   "source": [
    "from lucid.misc.io.serialize_array import serialize_array\n",
    "image_data = serialize_array(np.hstack(_), fmt='png', quality=90, domain=None)"
   ]
  },
  {
   "cell_type": "code",
   "execution_count": null,
   "id": "4a297567-69e2-4a8d-b227-5c842f6db2b3",
   "metadata": {},
   "outputs": [],
   "source": [
    "from PIL import Image\n",
    "from io import BytesIO\n",
    "byte_io = BytesIO(image_data)\n",
    "image = Image.open(byte_io)\n",
    "image.save(\"output_image.png\")"
   ]
  },
  {
   "cell_type": "code",
   "execution_count": null,
   "id": "0c316625-76a9-42a8-84ca-740d05b08c14",
   "metadata": {},
   "outputs": [],
   "source": [
    "for vis in visualizations:\n",
    "    image_data = serialize_array(np.hstack(visualizations[vis]), fmt='png', quality=90, domain=None)\n",
    "    byte_io = BytesIO(image_data)\n",
    "    image = Image.open(byte_io)\n",
    "    file_name = f\"{vis}.png\".replace(\"/\", \"_\")\n",
    "    image.save(file_name)"
   ]
  }
 ],
 "metadata": {
  "kernelspec": {
   "display_name": "Python [conda env:advai]",
   "language": "python",
   "name": "conda-env-advai-py"
  },
  "language_info": {
   "codemirror_mode": {
    "name": "ipython",
    "version": 3
   },
   "file_extension": ".py",
   "mimetype": "text/x-python",
   "name": "python",
   "nbconvert_exporter": "python",
   "pygments_lexer": "ipython3",
   "version": "3.7.12"
  }
 },
 "nbformat": 4,
 "nbformat_minor": 5
}
