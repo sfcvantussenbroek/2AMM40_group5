{
  "cells": [
    {
      "cell_type": "code",
      "execution_count": null,
      "metadata": {
        "id": "yYszMvriRkPo"
      },
      "outputs": [],
      "source": [
        "from google.colab import drive\n",
        "drive.mount('/content/drive')"
      ]
    },
    {
      "cell_type": "code",
      "execution_count": null,
      "metadata": {
        "id": "KbZrkmBiSP-Z"
      },
      "outputs": [],
      "source": [
        "import os\n",
        "from os import listdir\n",
        "from PIL import Image\n",
        "import matplotlib.pyplot as plt\n",
        "import numpy as np\n",
        "from scipy.stats import entropy\n",
        "import cv2\n",
        "from google.colab import files\n",
        "\n",
        "\n",
        "L = [0, 3, 6, 9, 11] # layers\n",
        "F = list(range(0,15)) # first 15 features\n",
        "\n",
        "all_stddesv = []\n",
        "\n",
        "for l in L:\n",
        "  stdevs = []\n",
        "  for f in F:\n",
        "\n",
        "    # Fourier transform\n",
        "\n",
        "    route = f'/content/drive/My Drive/ADVANCED/code/ViTs images/VisL{l}_F{f}_TV01.png'\n",
        "    image = Image.open(route)\n",
        "    image_grey = image.convert('L')\n",
        "    fourier = np.fft.fft2(image_grey)\n",
        "    fshift = np.fft.fftshift(fourier)              # bring it to the center\n",
        "    magnitude_spectrum = np.log(np.abs(fshift))    # abs because there are complex numbers and log to scale and for better visualizations\n",
        "\n",
        "    # standard deviation\n",
        "\n",
        "    stdevs.append(np.std(magnitude_spectrum.ravel()))\n",
        "\n",
        "    # comparing Fourier transform with visualization\n",
        "\n",
        "    plt.axis('off')\n",
        "    plt.subplot(121),plt.imshow(image, cmap = 'gray')\n",
        "    plt.title('Original Image'), plt.xticks([]), plt.yticks([])\n",
        "    plt.subplot(122),plt.imshow(magnitude_spectrum, cmap = 'gray')\n",
        "    plt.title('Magnitude Spectrum'), plt.xticks([]), plt.yticks([])\n",
        "    plt.show()\n",
        "\n",
        "\n",
        "  all_stddesv.append(sum(stdevs)/len(stdevs))\n",
        "\n",
        "print(all_stddesv)"
      ]
    },
    {
      "cell_type": "code",
      "source": [
        "# evolution of standard deviation\n",
        "\n",
        "x_values = [0, 3, 6, 9, 11]\n",
        "plt.plot(x_values, all_stddesv, color='#D9C4B1', linestyle='-')\n",
        "plt.xlabel('Layer')\n",
        "plt.ylabel('StDev')\n",
        "plt.title('Evolution of standard deviation across layers for ViT')\n",
        "plt.show()"
      ],
      "metadata": {
        "id": "fT0P7oQGwnHC"
      },
      "execution_count": null,
      "outputs": []
    },
    {
      "cell_type": "code",
      "execution_count": null,
      "metadata": {
        "id": "_eSYs2MSjMF6"
      },
      "outputs": [],
      "source": [
        "import os\n",
        "from os import listdir\n",
        "from PIL import Image\n",
        "import matplotlib.pyplot as plt\n",
        "import numpy as np\n",
        "from scipy.stats import entropy\n",
        "import cv2\n",
        "from google.colab import files\n",
        "\n",
        "route = '/content/drive/My Drive/ADVANCED/code/ResNet images'\n",
        "\n",
        "\n",
        "stdevs = []\n",
        "numbers = {\"block1\":{\"len\":0,\"stdev\":0},\n",
        "           \"block2\":{\"len\":0,\"stdev\":0},\n",
        "           \"block3\":{\"len\":0,\"stdev\":0},\n",
        "           \"block4\":{\"len\":0,\"stdev\":0}}\n",
        "\n",
        "for images in os.listdir(route):\n",
        "\n",
        "  # Fourier transform\n",
        "\n",
        "  image = Image.open(route+\"/\"+images)\n",
        "  image_grey = image.convert('L')\n",
        "  fourier = np.fft.fft2(image_grey)\n",
        "  fshift = np.fft.fftshift(fourier)           # bring it to the center\n",
        "  magnitude_spectrum = np.log(np.abs(fshift)) # abs because there are complex numbers and log to scale and for better visualizations\n",
        "\n",
        "  # comparing Fourier transform with visualization\n",
        "\n",
        "  plt.axis('off')\n",
        "  plt.subplot(121),plt.imshow(image, cmap = 'gray')\n",
        "  plt.title('Original Image'), plt.xticks([]), plt.yticks([])\n",
        "  plt.subplot(122),plt.imshow(magnitude_spectrum, cmap = 'gray')\n",
        "  plt.title('Magnitude Spectrum'), plt.xticks([]), plt.yticks([])\n",
        "  plt.show()\n",
        "\n",
        "\n",
        "  #file_name = images.replace(\".png\", \"\") +\"_\"+\"fourier.jpg\"\n",
        "  #plt.imsave(\"fourier/\"+ file_name, magnitude_spectrum, cmap='gray')\n",
        "\n",
        "  #standard deviation\n",
        "\n",
        "  for layer in numbers:\n",
        "    if layer in images:\n",
        "      numbers[layer][\"stdev\"] += np.std(magnitude_spectrum.ravel())\n",
        "      numbers[layer][\"len\"] += 1\n",
        "\n",
        "  #files.download(\"fourier/\"+ file_name)\n",
        "for layer in numbers:\n",
        "  stdevs.append(numbers[layer][\"stdev\"]/numbers[layer][\"len\"])\n",
        "\n",
        "print(stdevs)"
      ]
    },
    {
      "cell_type": "code",
      "source": [
        "# evolution of standard deviation\n",
        "\n",
        "x_values = numbers.keys()\n",
        "plt.plot(x_values, stdevs, color='#D9C4B1', linestyle='-')\n",
        "plt.xlabel('Layer')\n",
        "plt.ylabel('StDev')\n",
        "plt.title('Evolution of standard desviation across layers for CNN')\n",
        "plt.show()"
      ],
      "metadata": {
        "id": "1WD0Umx2pj6X"
      },
      "execution_count": null,
      "outputs": []
    }
  ],
  "metadata": {
    "colab": {
      "provenance": []
    },
    "kernelspec": {
      "display_name": "Python 3",
      "name": "python3"
    },
    "language_info": {
      "name": "python"
    }
  },
  "nbformat": 4,
  "nbformat_minor": 0
}